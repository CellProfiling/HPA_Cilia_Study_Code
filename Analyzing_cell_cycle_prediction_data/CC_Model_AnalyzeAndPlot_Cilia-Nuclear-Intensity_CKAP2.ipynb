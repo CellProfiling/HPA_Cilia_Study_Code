{
 "cells": [
  {
   "cell_type": "code",
   "execution_count": null,
   "id": "d358a010-9467-4508-933f-355a747b36bd",
   "metadata": {},
   "outputs": [],
   "source": [
    "# Copyright 2025, Jan N. Hansen, https://github.com/hansenjn\n",
    "# If you reuse the code (in particular the nucleus - cilia - assignment strategy), consider citing https://www.biorxiv.org/content/10.1101/2024.10.20.619273\n",
    "\n",
    "# %% \n",
    "# Import packages\n",
    "import os\n",
    "import pandas as pd\n",
    "import numpy as np\n",
    "from scipy.spatial.distance import cdist\n",
    "from scipy.optimize import linear_sum_assignment\n",
    "import matplotlib.pyplot as plt\n",
    "import seaborn as sns\n",
    "from PIL import Image, ImageDraw\n",
    "from scipy.stats import kruskal\n",
    "import scikit_posthocs as sp\n",
    "from statannotations.Annotator import Annotator"
   ]
  },
  {
   "cell_type": "code",
   "execution_count": null,
   "id": "40fd9f36-bf02-4bf7-b3f9-6f5484d6d7a7",
   "metadata": {},
   "outputs": [],
   "source": [
    "# Define repository path\n",
    "datapath = 'E:\\\\HPA_CILIA_STUDY\\\\'"
   ]
  },
  {
   "cell_type": "code",
   "execution_count": null,
   "id": "64af7010-3290-405b-8a1e-16451d0477ff",
   "metadata": {},
   "outputs": [],
   "source": [
    "# Name analyzed gene\n",
    "gene = \"CKAP2\""
   ]
  },
  {
   "cell_type": "code",
   "execution_count": null,
   "id": "a7b99b6f-2902-4898-bbce-da6bff6d04bd",
   "metadata": {},
   "outputs": [],
   "source": [
    "# Import files\n",
    "\n",
    "# Import GMNN prediction file, listing nucleus coordinates and predicted GMNN intensity in nucleus\n",
    "GMNN_predict = pd.read_csv(os.path.join(datapath,\"InputFiles\", \"CKAP2_GMNN-Prediction.csv\"))\n",
    "GMNN_predict.columns = GMNN_predict.columns.str.lstrip()\n",
    "GMNN_predict.rename(columns={\"file_name\": \"img_index\"}, inplace=True)\n",
    "GMNN_predict.rename(columns={\"# predicted\": \"GMNN_intensity\"}, inplace=True)\n",
    "\n",
    "# Since x and y are defined in python differently than in CiliaQ we swap x and y in the GMNN prediction table\n",
    "GMNN_predict.rename(columns={\"x\": \"y_new\"}, inplace=True)\n",
    "GMNN_predict.rename(columns={\"y\": \"GMNN_x\"}, inplace=True)\n",
    "GMNN_predict.rename(columns={\"y_new\": \"GMNN_y\"}, inplace=True)\n",
    "\n",
    "# Shorten filenames (remove unnecessary information):\n",
    "GMNN_predict[\"img_index\"] = GMNN_predict[\"img_index\"].str.replace(\"_new_stack$\", \"\", regex=True)\n",
    "\n",
    "# Loading CiliaQ text file (this is a concatenation of the column header and the individual CQs.txt output files)\n",
    "ciliaq = pd.read_csv(os.path.join(datapath,\"InputFiles\", \"CiliaQ_Combined.txt\"),\n",
    "                     sep='\\t',\n",
    "                     na_values=['', ' '],\n",
    "                     keep_default_na=True)\n",
    "\n",
    "# Shorten filenames (remove unnecessary information) and rename columns to match style between ciliaq and GMNN_predict lists:\n",
    "ciliaq[\"File name\"] = ciliaq[\"File name\"].str.removesuffix(\"_new_stack_PRE_CQP.tif\")\n",
    "ciliaq.rename(columns={\"File name\": \"img_index\"}, inplace=True)\n",
    "\n",
    "# Compute basal body coordinates in pixel to match unit in GMNN_predict\n",
    "ciliaq['bb_x'] = ciliaq['basalbody x center [micron]']/0.070694\n",
    "ciliaq['bb_y'] = ciliaq['basalbody y center [micron]']/0.070694"
   ]
  },
  {
   "cell_type": "code",
   "execution_count": null,
   "id": "17cdaea4-9cc4-4f62-9c07-96787af494de",
   "metadata": {},
   "outputs": [
    {
     "name": "stdout",
     "output_type": "stream",
     "text": [
      "Max x GMNN:  2039.2070621737064\n",
      "Max y GMNN:  2039.9785946486625\n",
      "Max bb x ciliaq:  2044.126220046963\n",
      "Max bb y ciliaq:  2044.9466574249582\n"
     ]
    }
   ],
   "source": [
    "# Exploring columns\n",
    "print('Max x GMNN:  ' + str(max(GMNN_predict['GMNN_x'])))\n",
    "print('Max y GMNN:  ' + str(max(GMNN_predict['GMNN_y'])))\n",
    "print('Max bb x ciliaq:  ' + str(max(ciliaq['bb_x'])))\n",
    "print('Max bb y ciliaq:  ' + str(max(ciliaq['bb_y'])))"
   ]
  },
  {
   "cell_type": "code",
   "execution_count": null,
   "id": "7129acb5-8929-4576-92c1-392045b0ae91",
   "metadata": {},
   "outputs": [],
   "source": [
    "# Drop note columns (the last 4 columns in the CQS.txt contain notes or are empty)\n",
    "# In the concatenated file we had named the columns Note1, Note2, etc. to avoid empty column names\n",
    "ciliaq = ciliaq.drop(columns=[\"Note1\", \"Note2\", \"Note3\", \"Note4\"], errors=\"ignore\")"
   ]
  },
  {
   "cell_type": "code",
   "execution_count": null,
   "id": "1273037f-e6b3-4391-b7ee-fb2f1cfa7d71",
   "metadata": {},
   "outputs": [
    {
     "name": "stdout",
     "output_type": "stream",
     "text": [
      "In total 92 nuclei were matched (of 192 BBs in ciliaq data and 92 nuclei in GMNN_predict)\n"
     ]
    }
   ],
   "source": [
    "# Assign basal bodies to nuclei\n",
    "\n",
    "MAX_DIST_NNUCLEI_CILIA = 250\n",
    "assignments = 0\n",
    "totalCells = len(GMNN_predict[\"GMNN_x\"])\n",
    "\n",
    "grouped_GMNN_predict = GMNN_predict.groupby(\"img_index\")\n",
    "for img_id, GMNN_predict_group in grouped_GMNN_predict: \n",
    "    # Extract only the ciliaq rows for this img_id \n",
    "    ciliaq_chunk = ciliaq[ciliaq[\"img_index\"] == img_id]\n",
    "\n",
    "    #Convert to a NumPy array (shape = [num_rows, 2]):\n",
    "    subcell_points = GMNN_predict_group[['GMNN_x',\n",
    "                                    'GMNN_y']].values\n",
    "    ciliaq_points = ciliaq_chunk[['bb_x',\n",
    "                                  'bb_y']].values\n",
    "\n",
    "    distance_matrix = cdist(subcell_points, ciliaq_points, 'euclidean')\n",
    "\n",
    "    # Reset all distances above 5 so distances above 5 do not influence assignment\n",
    "    distance_matrix = np.where(distance_matrix>MAX_DIST_NNUCLEI_CILIA, MAX_DIST_NNUCLEI_CILIA, distance_matrix)\n",
    "    \n",
    "    # Square the distances to force assignments of smaller distances over larger distances (penalizes \"long\" distance assignments)\n",
    "    distance_matrix = np.square(distance_matrix)\n",
    "    \n",
    "    row_ind, col_ind = linear_sum_assignment(distance_matrix)\n",
    "    \n",
    "    # IMPORTANT: Reset index but keep the old index as a column\n",
    "    # so we know how to write back to the main subcell DataFrame\n",
    "    GMNN_predict_group_temp = GMNN_predict_group.reset_index() # old index is in GMNN_predict_group_temp[\"index\"]\n",
    "    ciliaq_chunk_temp = ciliaq_chunk.reset_index() # old index is in ciliaq_chunk_temp[\"index\"]\n",
    "    \n",
    "    # Do the assignment \n",
    "    for i in range(len(row_ind)):\n",
    "        assignments += 1\n",
    "        GMNN_predict_idx = row_ind[i]\n",
    "        ciliaq_idx = col_ind[i]\n",
    "        # Retrieve the “true” DataFrame indices from the temp frames \n",
    "        sub_idx_in_main = GMNN_predict_group_temp.loc[GMNN_predict_idx, \"index\"]\n",
    "        ciliaq_idx_in_main = ciliaq_chunk_temp.loc[ciliaq_idx, \"index\"]\n",
    "        # Copy the columns \n",
    "        for col in ciliaq.columns: \n",
    "            GMNN_predict.loc[sub_idx_in_main, \"CILIAQ_\" + col] = ciliaq.loc[ciliaq_idx_in_main, col] # For unmatched subcell rows or GMNN rows, do np.nan or other logic as needed\n",
    "        GMNN_predict.loc[sub_idx_in_main, \"bb_nucleus_distance\"] = np.sqrt( (GMNN_predict.loc[sub_idx_in_main, \"GMNN_x\"] - ciliaq.loc[ciliaq_idx_in_main, \"bb_x\"])**2 + (GMNN_predict.loc[sub_idx_in_main, \"GMNN_y\"] - ciliaq.loc[ciliaq_idx_in_main, \"bb_y\"])**2 )\n",
    "        GMNN_predict.loc[sub_idx_in_main, \"assignment_cost\"] = distance_matrix[row_ind[i], col_ind[i]]\n",
    "\n",
    "print('In total ' + str(assignments) + ' nuclei were matched (of ' \n",
    "      + str(len(ciliaq['basalbody x center [micron]'])) + ' BBs in ciliaq data and '\n",
    "      + str(totalCells) + ' nuclei in GMNN_predict)')"
   ]
  },
  {
   "cell_type": "code",
   "execution_count": null,
   "id": "ec62caae-32d3-4006-b575-70bb4df298df",
   "metadata": {},
   "outputs": [
    {
     "data": {
      "image/png": "[encoded data removed]",
      "text/plain": [
       "<Figure size 800x500 with 1 Axes>"
      ]
     },
     "metadata": {},
     "output_type": "display_data"
    }
   ],
   "source": [
    "# Plot a histogram of distance assignments to see how many distances are too long (above the threshold value set in MAX_DIST_NNUCLEI_CILIA) (meaning no good matching )\n",
    "plt.figure(figsize=(8, 5))\n",
    "sns.histplot(data=GMNN_predict, x=\"bb_nucleus_distance\", bins=30, kde=True)\n",
    "plt.title(\"Histogram of bb_nucleus_distance\")\n",
    "plt.xlabel(\"bb_nucleus_distance\")\n",
    "plt.ylabel(\"Count\")\n",
    "plt.show()\n",
    "plt.close()"
   ]
  },
  {
   "cell_type": "code",
   "execution_count": null,
   "id": "2b05d4d5-506c-44c8-a6a3-95e71fa08f10",
   "metadata": {},
   "outputs": [],
   "source": [
    "# Drawing assignments into images (for QC)\n",
    "\n",
    "# For each unique img_index, load the corresponding image and draw lines from (bb_x, bb_y) to (x, y)\n",
    "# for each row, and save the result as \"<img_index>_assignment.jpg\" \n",
    "\n",
    "dot_radius = 3\n",
    "offset_x = dot_radius + 2\n",
    "offset_y = dot_radius + 2\n",
    "\n",
    "# Group rows by img_index \n",
    "for img_index, group in GMNN_predict.groupby(\"img_index\"): \n",
    "    img = Image.new(\"RGB\", (2048, 2048), \"black\")\n",
    "\n",
    "    # Open the existing PNG as the background (if available)\n",
    "    png_path = os.path.join(datapath,\"InputFiles\",\"Images\",img_index + \"_new_stack\",\"_inputs.png\")\n",
    "\n",
    "    # Check that the file exists, then open, if not create empty image\n",
    "    if not os.path.isfile(png_path): \n",
    "        print(f\"Could not find {png_path}, use black image.\") \n",
    "        # Create an empty 2048x2048 image (black background)\n",
    "        img = Image.new(\"RGB\", (2048, 2048), \"black\")\n",
    "        #continue\n",
    "    else:\n",
    "        img = Image.open(png_path).convert(\"RGB\")\n",
    "    \n",
    "    # Create drawing context on this image\n",
    "    draw = ImageDraw.Draw(img)\n",
    "\n",
    "    # Draw coordinates and connection for each row in this group \n",
    "    for _, row in group.iterrows(): \n",
    "        bb_x, bb_y = row[\"CILIAQ_bb_x\"], row[\"CILIAQ_bb_y\"]\n",
    "        x_val, y_val = row[\"GMNN_x\"], row[\"GMNN_y\"] \n",
    "        \n",
    "        # Draw a line between bb and nucleus and color it red if the assignment distance is too long\n",
    "        if(row[\"bb_nucleus_distance\"] >= MAX_DIST_NNUCLEI_CILIA):\n",
    "            draw.line((bb_x, bb_y, x_val, y_val), fill=\"red\", width=1)\n",
    "        else:\n",
    "            draw.line((bb_x, bb_y, x_val, y_val), fill=\"white\", width=1)\n",
    "\n",
    "        # Draw BB center and color it magenta if the BB has no cilium\n",
    "        if(pd.isna((row[\"CILIAQ_x center [micron]\"]))):\n",
    "            x0 = bb_x - dot_radius \n",
    "            y0 = bb_y - dot_radius\n",
    "            x1 = bb_x + dot_radius\n",
    "            y1 = bb_y + dot_radius\n",
    "            draw.ellipse((x0, y0, x1, y1), fill=\"magenta\")\n",
    "        else:\n",
    "            x0 = bb_x - dot_radius - 2\n",
    "            y0 = bb_y - dot_radius - 2\n",
    "            x1 = bb_x + dot_radius + 2\n",
    "            y1 = bb_y + dot_radius + 2\n",
    "            draw.ellipse((x0, y0, x1, y1), fill=\"yellow\")\n",
    "        \n",
    "        # Write BB coordinates next to the center\n",
    "        draw.text( (bb_x + offset_x + 5, bb_y + offset_y + 5),\n",
    "                    f\"({bb_x:.1f},{bb_y:.1f})\",\n",
    "                    fill=\"magenta\"\n",
    "                    )\n",
    "                    \n",
    "        # Draw Nucleus center\n",
    "        x0 = x_val - dot_radius \n",
    "        y0 = y_val - dot_radius\n",
    "        x1 = x_val + dot_radius\n",
    "        y1 = y_val + dot_radius\n",
    "        draw.ellipse((x0, y0, x1, y1), fill=\"cyan\")\n",
    "        \n",
    "        # Write nucleus coordinates next to the center\n",
    "        draw.text( (x_val + offset_x, y_val + offset_y),\n",
    "                    f\"({x_val:.1f},{y_val:.1f})\",\n",
    "                    fill=\"cyan\"\n",
    "                    )\n",
    "\n",
    "        # Save the image under \"<img_index>_assignment.jpg\"\n",
    "        out_path =  os.path.join(datapath, gene + \"_pred_results\", f\"{img_index}_assignment.jpg\")\n",
    "        img.save(out_path, \"JPEG\")"
   ]
  },
  {
   "cell_type": "code",
   "execution_count": null,
   "id": "70de9eb5-516c-481c-b177-b348b56d5c91",
   "metadata": {},
   "outputs": [
    {
     "name": "stdout",
     "output_type": "stream",
     "text": [
      "Lower percentile GMNN:42.49526448335496\n",
      "Lower percentile GMNN:76.13212475937702\n"
     ]
    }
   ],
   "source": [
    "# Normalize GMNN intensity using a percentile normalization\n",
    "perc = 0.99\n",
    "percText = \"\" + str(perc).replace(\"0.\", \"\") + \"p\"\n",
    "lower_p = GMNN_predict[\"GMNN_intensity\"].quantile(1-perc)\n",
    "upper_p = GMNN_predict[\"GMNN_intensity\"].quantile(perc)\n",
    "\n",
    "print('Lower percentile GMNN:' + str(lower_p))\n",
    "print('Lower percentile GMNN:' + str(upper_p))\n",
    "\n",
    "# Create a new column \"norm_predicted_GMNN\" by linear normalization using the percentile values\n",
    "GMNN_predict[\"norm_predicted_GMNN_\"+percText] = (GMNN_predict[\"GMNN_intensity\"] - lower_p) / (upper_p - lower_p)"
   ]
  },
  {
   "cell_type": "code",
   "execution_count": null,
   "id": "9dc20d72-b3cb-40f8-8f3a-e4ee1ec34ac6",
   "metadata": {},
   "outputs": [],
   "source": [
    "# Bin the normalized GMNN intensity values into four categories\n",
    "bins = [-np.inf, 0.25, 0.5, 0.75, np.inf]\n",
    "labels = [\"<0.25\", \"0.25-0.5\", \"0.5-0.75\", \">0.75\"]\n",
    "GMNN_predict[\"binned_norm_GMNN_\"+percText] = pd.cut(GMNN_predict[\"norm_predicted_GMNN_\"+percText], bins=bins, labels=labels)"
   ]
  },
  {
   "cell_type": "code",
   "execution_count": null,
   "id": "38b7f780-718d-4f08-8ddd-eaeb7bbd7a05",
   "metadata": {},
   "outputs": [],
   "source": [
    "# Writing the binned normalized GMNN intensity into an image at the nucleus coordinate (for inspection)\n",
    "for img_index, group in GMNN_predict.groupby(\"img_index\"): \n",
    "    img = Image.new(\"RGB\", (2048, 2048), \"black\")\n",
    "    \n",
    "    # Create a drawing context on this image\n",
    "    draw = ImageDraw.Draw(img)\n",
    "\n",
    "    # Draw coordinates and connection for each row in this group \n",
    "    for _, row in group.iterrows(): \n",
    "        x_val, y_val = row[\"GMNN_x\"], row[\"GMNN_y\"] \n",
    "                            \n",
    "        # Draw Nucleus center\n",
    "        x0 = x_val - dot_radius \n",
    "        y0 = y_val - dot_radius\n",
    "        x1 = x_val + dot_radius\n",
    "        y1 = y_val + dot_radius\n",
    "        draw.ellipse((x0, y0, x1, y1), fill=\"cyan\")\n",
    "        \n",
    "        draw.text( (x_val + offset_x, y_val + offset_y),\n",
    "                    row['binned_norm_GMNN_'+percText] + \" (\" + str(row['norm_predicted_GMNN_'+percText]) + \")\",\n",
    "                    fill=\"cyan\")\n",
    "\n",
    "        # Save the image under \"<img_index>_assignment.jpg\"\n",
    "        out_path =  os.path.join(datapath, gene + \"_pred_results\", f\"{img_index}_PredGMNN_ONLY.jpg\")\n",
    "        img.save(out_path, \"JPEG\")"
   ]
  },
  {
   "cell_type": "code",
   "execution_count": null,
   "id": "88cafc15-f225-42e7-8cba-21b57cd843f3",
   "metadata": {},
   "outputs": [
    {
     "name": "stdout",
     "output_type": "stream",
     "text": [
      "Number of cells before removing assignments that are too long: 92\n",
      "Number of remaining cells after removing assignments that are too long: 83\n"
     ]
    }
   ],
   "source": [
    "# Filter out the assignments that are too long (exceed the distance threshold MAX_DIST_NNUCLEI_CILIA)\n",
    "print('Number of cells before removing assignments that are too long: ' + str(len(GMNN_predict[\"GMNN_x\"])))\n",
    "\n",
    "GMNN_predict = GMNN_predict[GMNN_predict[\"bb_nucleus_distance\"] < MAX_DIST_NNUCLEI_CILIA]\n",
    "\n",
    "print('Number of remaining cells after removing assignments that are too long: ' + str(len(GMNN_predict[\"GMNN_x\"])))"
   ]
  },
  {
   "cell_type": "code",
   "execution_count": null,
   "id": "f75c27a5-a2c8-4128-bfe2-4612e97fed3e",
   "metadata": {},
   "outputs": [
    {
     "name": "stdout",
     "output_type": "stream",
     "text": [
      "Number of remaining cells after dropping all basal bodies without cilia: 19\n"
     ]
    }
   ],
   "source": [
    "# Drop all basal bodies in CiliaQ that have no cilia for further plotting\n",
    "GMNN_predict = GMNN_predict.dropna(subset=[\"CILIAQ_x center [micron]\"])\n",
    "\n",
    "print('Number of remaining cells after dropping all basal bodies without cilia: ' + str(len(GMNN_predict[\"GMNN_x\"])))"
   ]
  },
  {
   "cell_type": "code",
   "execution_count": null,
   "id": "f5d5f7be-6714-45c0-b9ac-bd2268a160cf",
   "metadata": {},
   "outputs": [],
   "source": [
    "GMNN_predict.to_excel(os.path.join(datapath, gene + \"_pred_results\", gene + \"_assigned_data.xlsx\"), index=False)"
   ]
  },
  {
   "cell_type": "code",
   "execution_count": null,
   "id": "9dfbd887-042d-4f27-bd54-b85c244b3677",
   "metadata": {},
   "outputs": [
    {
     "name": "stdout",
     "output_type": "stream",
     "text": [
      "Lower percentile CKAP2: 174.50256430000002\n",
      "Lower percentile CKAP2: 18714.483663560004\n"
     ]
    }
   ],
   "source": [
    "# Normalize cilia intensity\n",
    "\n",
    "param = 'CILIAQ_Average A intensity on center line'\n",
    "paramAltName = f\"Ciliary {gene} average centerline intensity\"\n",
    "paramAltFilenameName = 'CiliaCenterlineAvg'\n",
    "\n",
    "lower_p = GMNN_predict[param].quantile(1-perc)\n",
    "upper_p = GMNN_predict[param].quantile(perc)\n",
    "\n",
    "print('Lower percentile ' + gene + \": \" + str(lower_p))\n",
    "print('Lower percentile ' + gene + \": \" + str(upper_p))\n",
    "\n",
    "# Create a new column \"norm_predicted_GMNN\" by linear normalization\n",
    "GMNN_predict[\"norm_CILIAQ_AvgAIntCntLn\"] = (GMNN_predict[param] - lower_p) / (upper_p - lower_p)"
   ]
  },
  {
   "cell_type": "code",
   "execution_count": null,
   "id": "7677af68-ffdb-4541-8ca1-16a48a6f1876",
   "metadata": {},
   "outputs": [
    {
     "name": "stdout",
     "output_type": "stream",
     "text": [
      "Statistics for CKAP2:\n",
      "Kruskal-Wallis result for CKAP2: H=nan, p=nan\n",
      "Pairwise Dunn’s test p-values:\n",
      "              <0.25  0.25-0.5  0.5-0.75\n",
      "<0.25     1.000000  1.000000  0.191069\n",
      "0.25-0.5  1.000000  1.000000  0.214516\n",
      "0.5-0.75  0.191069  0.214516  1.000000\n"
     ]
    }
   ],
   "source": [
    "# Statistical testing\n",
    "print('Statistics for ' + gene + ':')\n",
    "\n",
    "# Overall nonparametric test: Kruskal-Wallis \n",
    "# - Checks if there's a statistically significant difference among all bins\n",
    "groups = [group_df['norm_CILIAQ_AvgAIntCntLn'].dropna() for _, group_df in GMNN_predict.groupby(\"binned_norm_GMNN_\"+percText, observed=False)]\n",
    "if len(groups) > 1: # Ensure that we have multiple groups \n",
    "    H, p_overall = kruskal(*groups)\n",
    "    print(f\"Kruskal-Wallis result for {gene}: H={H:.3f}, p={p_overall:.3e}\")\n",
    "\n",
    "# Post-hoc pairwise testing using Dunn’s (adjust p-values)\n",
    "# scikit-posthocs returns matrix of p-values for each group comparison\n",
    "try:\n",
    "    dunn_results = sp.posthoc_dunn( GMNN_predict, val_col='norm_CILIAQ_AvgAIntCntLn', group_col=\"binned_norm_GMNN_\"+percText, p_adjust=\"bonferroni\" )\n",
    "    print(\"Pairwise Dunn’s test p-values:\\n\", dunn_results)\n",
    "except Exception as e: \n",
    "    print(f\"An error occurred when performing Dunn’s test: {e}\")"
   ]
  },
  {
   "cell_type": "code",
   "execution_count": null,
   "id": "2a8906e0-3a63-410d-908b-a0040779d45c",
   "metadata": {},
   "outputs": [
    {
     "name": "stdout",
     "output_type": "stream",
     "text": [
      "P value annotation for plot: {('0.25-0.5', '0.5-0.75'): 0.21451624933462338, ('0.25-0.5', '<0.25'): 1.0, ('0.5-0.75', '<0.25'): 0.19106932540988603}\n"
     ]
    },
    {
     "data": {
      "image/png": "[encoded data removed]",
      "text/plain": [
       "<Figure size 300x200 with 1 Axes>"
      ]
     },
     "metadata": {},
     "output_type": "display_data"
    }
   ],
   "source": [
    "# Plotting violin plot with overlaying strip plot\n",
    "\n",
    "plt.figure(figsize=(3, 2))\n",
    "\n",
    "# Violinplot     \n",
    "ax = sns.violinplot( data=GMNN_predict, x=\"binned_norm_GMNN_\"+percText, \n",
    "            y=\"norm_CILIAQ_AvgAIntCntLn\",\n",
    "            # cut=0, # By default, extends beyond extreme values; cut=0 keeps it within observed data range\n",
    "            alpha = 0.5)\n",
    "\n",
    "# Strip plot\n",
    "sns.stripplot(data=GMNN_predict, \n",
    "            x=\"binned_norm_GMNN_\"+percText,\n",
    "            y=\"norm_CILIAQ_AvgAIntCntLn\", color=\"red\", alpha=0.3, size=2,jitter=0.25)\n",
    "    \n",
    "plt.xlabel(\"predicted nuclear GMNN intensity\\n(percentile normalized, \" + percText + \")\")\n",
    "plt.ylabel(\"predicted ciliary \" + gene + \" intensity\\n(percentile normalized, \" + percText + \")\")\n",
    "plt.ylim(-0.5,1.7)\n",
    "\n",
    "# Annotate significance on the plot with statannotations\n",
    "# 1) create labels\n",
    "group_labels = sorted(GMNN_predict[\"binned_norm_GMNN_\"+percText].unique())\n",
    "\n",
    "pairs = []\n",
    "for i in range(len(group_labels)):\n",
    "    for j in range(i+1, len(group_labels)):\n",
    "        pairs.append((group_labels[i], group_labels[j]))\n",
    "\n",
    "# 2) Convert the pivot table of p-values to a dictionary:\n",
    "p_values = {}\n",
    "for i, g1 in enumerate(group_labels):\n",
    "    for j, g2 in enumerate(group_labels): \n",
    "        if j <= i:  # Avoid repeating diagonal or lower half \n",
    "            continue\n",
    "        p_val = dunn_results.loc[g1, g2]\n",
    "        p_values[(g1, g2)] = p_val\n",
    "\n",
    "print('P value annotation for plot: ' + str(p_values))\n",
    "\n",
    "# Add annotations\n",
    "annotator = Annotator(ax, pairs, data=GMNN_predict, x=\"binned_norm_GMNN_\"+percText, y=\"norm_CILIAQ_AvgAIntCntLn\")\n",
    "\n",
    "# Here we will use the p-values we already have, instead of having statannotations compute them\n",
    "annotator.configure( test=None, # None since we already have p-values\n",
    "                    text_format=\"simple\", # Options: star, simple, full\n",
    "                    loc=\"outside\", verbose=False )\n",
    "annotator.set_pvalues_and_annotate([p_values[pair] for pair in pairs])\n",
    "\n",
    "violinplot_path = os.path.join(datapath, gene + \"_pred_results\", gene + \"_\" + paramAltFilenameName + \"_violin_norm_\" + percText + \"_stats\")\n",
    "plt.savefig(violinplot_path + \".png\", dpi=300, bbox_inches=\"tight\")\n",
    "plt.savefig(violinplot_path + \".svg\", dpi=300, bbox_inches=\"tight\")\n",
    "\n",
    "plt.show()\n",
    "plt.close()"
   ]
  }
 ],
 "metadata": {
  "language_info": {
   "codemirror_mode": {
    "name": "ipython",
    "version": 3
   },
   "file_extension": ".py",
   "mimetype": "text/x-python",
   "name": "python",
   "nbconvert_exporter": "python",
   "pygments_lexer": "ipython3",
   "version": 3
  }
 },
 "nbformat": 4,
 "nbformat_minor": 2
}
